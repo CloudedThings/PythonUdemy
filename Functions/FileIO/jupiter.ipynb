{
 "cells": [
  {
   "cell_type": "code",
   "execution_count": 18,
   "metadata": {
    "collapsed": true
   },
   "outputs": [],
   "source": [
    "with open('sample.txt', 'a') as file_out:\n",
    "    for x in range(1, 12):\n",
    "        file_out.write(f'{x} times 2 is {x * 2}\\n')\n",
    "import pickle\n",
    "\n",
    "album = ('Never, neverland',\n",
    "        'UNKLE',\n",
    "        '2008',\n",
    "        ((1, 'Intro'),\n",
    "        (2, 'Second'),\n",
    "        (3, 'Third')))\n",
    "with open(\"unkle.pickle\", 'wb') as pickle_file:\n",
    "    pickle.dump(album, pickle_file)"
   ]
  },
  {
   "cell_type": "code",
   "execution_count": 21,
   "outputs": [
    {
     "name": "stdout",
     "output_type": "stream",
     "text": [
      "('Never, neverland', 'UNKLE', '2008', ((1, 'Intro'), (2, 'Second'), (3, 'Third')))\n",
      "1 Intro\n",
      "2 Second\n",
      "3 Third\n"
     ]
    }
   ],
   "source": [
    "with open(\"unkle.pickle\", 'rb') as pickle_file:\n",
    "    unkle= pickle.load(pickle_file)\n",
    "\n",
    "print(unkle)\n",
    "album, artist, year, track_list = unkle\n",
    "\n",
    "for track in track_list:\n",
    "    number, track_title = track\n",
    "    print(number, track_title)"
   ],
   "metadata": {
    "collapsed": false,
    "pycharm": {
     "name": "#%%\n"
    }
   }
  },
  {
   "cell_type": "code",
   "execution_count": null,
   "outputs": [],
   "source": [],
   "metadata": {
    "collapsed": false,
    "pycharm": {
     "name": "#%%\n"
    }
   }
  }
 ],
 "metadata": {
  "kernelspec": {
   "display_name": "Python 3",
   "language": "python",
   "name": "python3"
  },
  "language_info": {
   "codemirror_mode": {
    "name": "ipython",
    "version": 2
   },
   "file_extension": ".py",
   "mimetype": "text/x-python",
   "name": "python",
   "nbconvert_exporter": "python",
   "pygments_lexer": "ipython2",
   "version": "2.7.6"
  }
 },
 "nbformat": 4,
 "nbformat_minor": 0
}