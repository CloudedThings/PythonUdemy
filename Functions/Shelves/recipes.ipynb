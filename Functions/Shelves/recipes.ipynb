{
 "cells": [
  {
   "cell_type": "code",
   "execution_count": 1,
   "metadata": {
    "collapsed": true
   },
   "outputs": [],
   "source": [
    "import shelve\n",
    "\n",
    "blt = [\"baceon\", \"lettuce\", \"tomato\", \"bread\"]\n",
    "pasta = [\"pasta\", \"chease\"]\n",
    "soup = [\"carrot\", \"buljong\"]\n",
    "\n",
    "with shelve.open('recipes') as recipes:\n",
    "    recipes[\"blt\"] = blt\n",
    "    recipes[\"pasta\"] = pasta\n",
    "    recipes[\"soup\"] = soup"
   ]
  },
  {
   "cell_type": "code",
   "execution_count": 2,
   "outputs": [
    {
     "name": "stdout",
     "output_type": "stream",
     "text": [
      "blt ['baceon', 'lettuce', 'tomato', 'bread']\n",
      "pasta ['pasta', 'chease']\n",
      "soup ['carrot', 'buljong']\n",
      "curry ['rice', 'coconut milk', 'spices']\n"
     ]
    }
   ],
   "source": [
    "curry = [\"rice\", \"coconut milk\", \"spices\"]\n",
    "\n",
    "with shelve.open('recipes') as recipes:\n",
    "    recipes[\"curry\"] = curry\n",
    "\n",
    "    for snack in recipes:\n",
    "        print(snack, recipes[snack])\n"
   ],
   "metadata": {
    "collapsed": false,
    "pycharm": {
     "name": "#%%\n"
    }
   }
  },
  {
   "cell_type": "code",
   "execution_count": 4,
   "outputs": [
    {
     "name": "stdout",
     "output_type": "stream",
     "text": [
      "blt ['baceon', 'lettuce', 'tomato', 'bread']\n",
      "pasta ['pasta', 'chease', 'olives']\n",
      "soup ['carrot', 'buljong', 'Tomato']\n",
      "curry ['rice', 'coconut milk', 'spices']\n"
     ]
    }
   ],
   "source": [
    "with shelve.open('recipes') as recipes:\n",
    "    # recipes[\"pasta\"].append(\"olives\")\n",
    "    # recipes[\"soup\"].append(\"salt\")\n",
    "    temp_list = recipes[\"pasta\"]\n",
    "    temp_list.append(\"olives\")\n",
    "    recipes[\"pasta\"] = temp_list\n",
    "\n",
    "    temp_list = recipes[\"soup\"]\n",
    "    temp_list.append(\"Tomato\")\n",
    "    recipes[\"soup\"] = temp_list\n",
    "\n",
    "    for snack in recipes:\n",
    "        print(snack, recipes[snack])"
   ],
   "metadata": {
    "collapsed": false,
    "pycharm": {
     "name": "#%%\n"
    }
   }
  },
  {
   "cell_type": "code",
   "execution_count": 9,
   "outputs": [
    {
     "name": "stdout",
     "output_type": "stream",
     "text": [
      "blt ['baceon', 'lettuce', 'tomato', 'bread']\n",
      "pasta ['pasta', 'chease', 'olives']\n",
      "soup ['carrot', 'buljong']\n",
      "curry ['rice', 'coconut milk', 'spices']\n"
     ]
    }
   ],
   "source": [
    "with shelve.open('recipes') as recipes:\n",
    "    for snack in recipes:\n",
    "        print(snack, recipes[snack])"
   ],
   "metadata": {
    "collapsed": false,
    "pycharm": {
     "name": "#%%\n"
    }
   }
  },
  {
   "cell_type": "code",
   "execution_count": 6,
   "outputs": [],
   "source": [
    "with shelve.open('recipes', writeback=True) as recipes:\n",
    "    recipes[\"soup\"].append(\"croutons\")"
   ],
   "metadata": {
    "collapsed": false,
    "pycharm": {
     "name": "#%%\n"
    }
   }
  },
  {
   "cell_type": "code",
   "execution_count": 8,
   "outputs": [],
   "source": [
    "with shelve.open('recipes') as recipes:\n",
    "    recipes[\"soup\"] = soup\n",
    "    recipes.sync()\n",
    "    soup.append(\"cream\")"
   ],
   "metadata": {
    "collapsed": false,
    "pycharm": {
     "name": "#%%\n"
    }
   }
  },
  {
   "cell_type": "code",
   "execution_count": 17,
   "outputs": [
    {
     "name": "stdout",
     "output_type": "stream",
     "text": [
      "['carrot', 'buljong', 'Tomato']\n",
      "['gaffer type']\n"
     ]
    }
   ],
   "source": [
    "books = {\"recipes\": {\"blt\": [\"baceon\", \"lettuce\", \"tomato\", \"bread\"],\n",
    "                     \"pasta\": ['pasta', 'chease', 'olives'],\n",
    "                     \"soup\": ['carrot', 'buljong', 'Tomato'],\n",
    "                     \"curry\": ['rice', 'coconut milk', 'spices']},\n",
    "         \"maintenence\": {\"stuck\": [\"oil\"],\n",
    "                         \"loose\": [\"gaffer type\"]}}\n",
    "print(books[\"recipes\"][\"soup\"])\n",
    "print(books[\"maintenence\"][\"loose\"])\n"
   ],
   "metadata": {
    "collapsed": false,
    "pycharm": {
     "name": "#%%\n"
    }
   }
  },
  {
   "cell_type": "code",
   "execution_count": null,
   "outputs": [],
   "source": [
    "import shelve\n",
    "book = shelve.open(\"book\")\n",
    "books[\"recipes\"] = books\n"
   ],
   "metadata": {
    "collapsed": false,
    "pycharm": {
     "name": "#%%\n"
    }
   }
  }
 ],
 "metadata": {
  "kernelspec": {
   "display_name": "Python 3",
   "language": "python",
   "name": "python3"
  },
  "language_info": {
   "codemirror_mode": {
    "name": "ipython",
    "version": 2
   },
   "file_extension": ".py",
   "mimetype": "text/x-python",
   "name": "python",
   "nbconvert_exporter": "python",
   "pygments_lexer": "ipython2",
   "version": "2.7.6"
  }
 },
 "nbformat": 4,
 "nbformat_minor": 0
}