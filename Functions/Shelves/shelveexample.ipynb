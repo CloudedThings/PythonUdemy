{
 "cells": [
  {
   "cell_type": "code",
   "execution_count": 5,
   "metadata": {
    "collapsed": true
   },
   "outputs": [
    {
     "name": "stdout",
     "output_type": "stream",
     "text": [
      "a sour yellow citrus\n"
     ]
    }
   ],
   "source": [
    "import shelve\n",
    "\n",
    "with shelve.open('ShelfTest') as fruit:\n",
    "    fruit['orange'] = \"a sweet, orange, citrus fruit\"\n",
    "    fruit['apple'] = \"good for making cider\"\n",
    "    fruit['lemon'] = \"a sour yellow citrus\"\n",
    "    fruit['grape'] = \"great for making wines\"\n",
    "    fruit['lime'] = \"a sour green citrus fruit\"\n",
    "\n",
    "    print(fruit[\"lemon\"])"
   ]
  },
  {
   "cell_type": "code",
   "execution_count": 9,
   "outputs": [
    {
     "name": "stdout",
     "output_type": "stream",
     "text": [
      "a sour yellow citrus\n"
     ]
    }
   ],
   "source": [
    "\n",
    "# with shelve.open('ShelfTest') as fruit:\n",
    "fruit = shelve.open('ShelfTest')\n",
    "fruit['orange'] = \"a sweet, orange, citrus fruit\"\n",
    "fruit['apple'] = \"good for making cider\"\n",
    "fruit['lemon'] = \"a sour yellow citrus\"\n",
    "fruit['grape'] = \"great for making wines\"\n",
    "fruit['lime'] = \"a sour green citrus fruit\"\n",
    "\n",
    "print(fruit[\"lemon\"]),\n",
    "fruit.close()"
   ],
   "metadata": {
    "collapsed": false,
    "pycharm": {
     "name": "#%%\n"
    }
   }
  },
  {
   "cell_type": "code",
   "execution_count": 10,
   "outputs": [],
   "source": [
    "with shelve.open(\"bike\") as bike:\n",
    "    bike[\"make\"] = \"Honda\"\n",
    "    bike[\"model\"] = \"250 dream\"\n",
    "    bike[\"colour\"] = \"red\"\n",
    "    bike[\"engine\"] = 250"
   ],
   "metadata": {
    "collapsed": false,
    "pycharm": {
     "name": "#%%\n"
    }
   }
  }
 ],
 "metadata": {
  "kernelspec": {
   "display_name": "Python 3",
   "language": "python",
   "name": "python3"
  },
  "language_info": {
   "codemirror_mode": {
    "name": "ipython",
    "version": 2
   },
   "file_extension": ".py",
   "mimetype": "text/x-python",
   "name": "python",
   "nbconvert_exporter": "python",
   "pygments_lexer": "ipython2",
   "version": "2.7.6"
  }
 },
 "nbformat": 4,
 "nbformat_minor": 0
}